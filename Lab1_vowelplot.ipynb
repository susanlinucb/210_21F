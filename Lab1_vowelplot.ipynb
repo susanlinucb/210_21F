{
 "cells": [
  {
   "cell_type": "code",
   "execution_count": 9,
   "id": "standard-glenn",
   "metadata": {},
   "outputs": [],
   "source": [
    "import pandas as pd\n",
    "import seaborn as sns\n",
    "import matplotlib.pyplot as plt\n",
    "\n",
    "%matplotlib inline"
   ]
  },
  {
   "cell_type": "markdown",
   "id": "naughty-specification",
   "metadata": {},
   "source": [
    "This notebook assumes data is formatted as a CSV file with at least the following three columns:\n",
    "- vowel: this can be IPA symbols, ARPABET characters, sociolinguistic vowel labels, or even the words themselves\n",
    "- F1: measured in either Hertz or Bark\n",
    "- F2: measured in either Hertz or Bark, although you should stick with the same system as you used for F1"
   ]
  },
  {
   "cell_type": "code",
   "execution_count": 3,
   "id": "collectible-strength",
   "metadata": {},
   "outputs": [
    {
     "data": {
      "text/html": [
       "<div>\n",
       "<style scoped>\n",
       "    .dataframe tbody tr th:only-of-type {\n",
       "        vertical-align: middle;\n",
       "    }\n",
       "\n",
       "    .dataframe tbody tr th {\n",
       "        vertical-align: top;\n",
       "    }\n",
       "\n",
       "    .dataframe thead th {\n",
       "        text-align: right;\n",
       "    }\n",
       "</style>\n",
       "<table border=\"1\" class=\"dataframe\">\n",
       "  <thead>\n",
       "    <tr style=\"text-align: right;\">\n",
       "      <th></th>\n",
       "      <th>vowel</th>\n",
       "      <th>F1</th>\n",
       "      <th>F2</th>\n",
       "    </tr>\n",
       "  </thead>\n",
       "  <tbody>\n",
       "    <tr>\n",
       "      <th>0</th>\n",
       "      <td>i</td>\n",
       "      <td>353</td>\n",
       "      <td>2879</td>\n",
       "    </tr>\n",
       "    <tr>\n",
       "      <th>1</th>\n",
       "      <td>ɪ</td>\n",
       "      <td>515</td>\n",
       "      <td>2250</td>\n",
       "    </tr>\n",
       "    <tr>\n",
       "      <th>2</th>\n",
       "      <td>e</td>\n",
       "      <td>566</td>\n",
       "      <td>2323</td>\n",
       "    </tr>\n",
       "    <tr>\n",
       "      <th>3</th>\n",
       "      <td>ɛ</td>\n",
       "      <td>693</td>\n",
       "      <td>2004</td>\n",
       "    </tr>\n",
       "    <tr>\n",
       "      <th>4</th>\n",
       "      <td>æ</td>\n",
       "      <td>931</td>\n",
       "      <td>1922</td>\n",
       "    </tr>\n",
       "    <tr>\n",
       "      <th>5</th>\n",
       "      <td>ɑ</td>\n",
       "      <td>948</td>\n",
       "      <td>1099</td>\n",
       "    </tr>\n",
       "    <tr>\n",
       "      <th>6</th>\n",
       "      <td>o</td>\n",
       "      <td>566</td>\n",
       "      <td>1134</td>\n",
       "    </tr>\n",
       "    <tr>\n",
       "      <th>7</th>\n",
       "      <td>ʊ</td>\n",
       "      <td>531</td>\n",
       "      <td>1404</td>\n",
       "    </tr>\n",
       "    <tr>\n",
       "      <th>8</th>\n",
       "      <td>u</td>\n",
       "      <td>427</td>\n",
       "      <td>1529</td>\n",
       "    </tr>\n",
       "    <tr>\n",
       "      <th>9</th>\n",
       "      <td>ɚ</td>\n",
       "      <td>608</td>\n",
       "      <td>1784</td>\n",
       "    </tr>\n",
       "    <tr>\n",
       "      <th>10</th>\n",
       "      <td>ʌ</td>\n",
       "      <td>733</td>\n",
       "      <td>1348</td>\n",
       "    </tr>\n",
       "  </tbody>\n",
       "</table>\n",
       "</div>"
      ],
      "text/plain": [
       "   vowel   F1    F2\n",
       "0      i  353  2879\n",
       "1      ɪ  515  2250\n",
       "2      e  566  2323\n",
       "3      ɛ  693  2004\n",
       "4      æ  931  1922\n",
       "5      ɑ  948  1099\n",
       "6      o  566  1134\n",
       "7      ʊ  531  1404\n",
       "8      u  427  1529\n",
       "9      ɚ  608  1784\n",
       "10     ʌ  733  1348"
      ]
     },
     "execution_count": 3,
     "metadata": {},
     "output_type": "execute_result"
    }
   ],
   "source": [
    "df = pd.read_csv('./Lab1_data_SL.csv')\n",
    "df"
   ]
  },
  {
   "cell_type": "markdown",
   "id": "instructional-hebrew",
   "metadata": {},
   "source": [
    "To plot the vowels, let's use `seaborn` to make a scatterplot with F1 and F2, then add whatever text we have included in the vowel labels using the `text` method of plot objects."
   ]
  },
  {
   "cell_type": "code",
   "execution_count": 14,
   "id": "elder-malta",
   "metadata": {},
   "outputs": [
    {
     "data": {
      "text/plain": [
       "0     Text(353, 2879, 'i')\n",
       "1     Text(515, 2250, 'ɪ')\n",
       "2     Text(566, 2323, 'e')\n",
       "3     Text(693, 2004, 'ɛ')\n",
       "4     Text(931, 1922, 'æ')\n",
       "5     Text(948, 1099, 'ɑ')\n",
       "6     Text(566, 1134, 'o')\n",
       "7     Text(531, 1404, 'ʊ')\n",
       "8     Text(427, 1529, 'u')\n",
       "9     Text(608, 1784, 'ɚ')\n",
       "10    Text(733, 1348, 'ʌ')\n",
       "dtype: object"
      ]
     },
     "execution_count": 14,
     "metadata": {},
     "output_type": "execute_result"
    },
    {
     "data": {
      "image/png": "[encoded data removed]",
      "text/plain": [
       "<Figure size 432x288 with 1 Axes>"
      ]
     },
     "metadata": {
      "needs_background": "light"
     },
     "output_type": "display_data"
    }
   ],
   "source": [
    "p = sns.scatterplot(x='F1',y='F2',data=df)\n",
    "df.apply(lambda x: p.text(x.F1, x.F2, x.vowel, size='xx-large'), axis=1)"
   ]
  },
  {
   "cell_type": "markdown",
   "id": "beginning-taylor",
   "metadata": {},
   "source": [
    "This doesn't look quite right though, since we have F1 and F2 on x- and y-axes respectively, so let's swap them."
   ]
  },
  {
   "cell_type": "code",
   "execution_count": 15,
   "id": "robust-insured",
   "metadata": {},
   "outputs": [
    {
     "data": {
      "text/plain": [
       "0     Text(2879, 353, 'i')\n",
       "1     Text(2250, 515, 'ɪ')\n",
       "2     Text(2323, 566, 'e')\n",
       "3     Text(2004, 693, 'ɛ')\n",
       "4     Text(1922, 931, 'æ')\n",
       "5     Text(1099, 948, 'ɑ')\n",
       "6     Text(1134, 566, 'o')\n",
       "7     Text(1404, 531, 'ʊ')\n",
       "8     Text(1529, 427, 'u')\n",
       "9     Text(1784, 608, 'ɚ')\n",
       "10    Text(1348, 733, 'ʌ')\n",
       "dtype: object"
      ]
     },
     "execution_count": 15,
     "metadata": {},
     "output_type": "execute_result"
    },
    {
     "data": {
      "image/png": "[encoded data removed]",
      "text/plain": [
       "<Figure size 432x288 with 1 Axes>"
      ]
     },
     "metadata": {
      "needs_background": "light"
     },
     "output_type": "display_data"
    }
   ],
   "source": [
    "p = sns.scatterplot(x='F2',y='F1',data=df)\n",
    "df.apply(lambda x: p.text(x.F2, x.F1, x.vowel, size='xx-large'), axis=1)"
   ]
  },
  {
   "cell_type": "markdown",
   "id": "pressed-space",
   "metadata": {},
   "source": [
    "Still not quite right... now invert the axes too."
   ]
  },
  {
   "cell_type": "code",
   "execution_count": 16,
   "id": "expected-carter",
   "metadata": {},
   "outputs": [
    {
     "data": {
      "image/png": "[encoded data removed]",
      "text/plain": [
       "<Figure size 432x288 with 1 Axes>"
      ]
     },
     "metadata": {
      "needs_background": "light"
     },
     "output_type": "display_data"
    }
   ],
   "source": [
    "p = sns.scatterplot(x='F2',y='F1',data=df)\n",
    "df.apply(lambda x: p.text(x.F2, x.F1, x.vowel, size='xx-large'), axis=1)\n",
    "# p.set(xscale=\"log\") ## You can uncomment these two lines to set both the x- and y-axes to a logarithmic scale\n",
    "# p.set(yscale=\"log\")\n",
    "p.invert_xaxis()\n",
    "p.invert_yaxis()"
   ]
  },
  {
   "cell_type": "markdown",
   "id": "saved-upper",
   "metadata": {},
   "source": [
    "Looks much better! :) \n",
    "\n",
    "Now think about how might we expand this to include other types of vowels. Here's an example with formants from both \"full\" vowels and the [ə] that preceded the full vowels."
   ]
  },
  {
   "cell_type": "code",
   "execution_count": 32,
   "id": "fluid-liberty",
   "metadata": {},
   "outputs": [
    {
     "data": {
      "text/html": [
       "<div>\n",
       "<style scoped>\n",
       "    .dataframe tbody tr th:only-of-type {\n",
       "        vertical-align: middle;\n",
       "    }\n",
       "\n",
       "    .dataframe tbody tr th {\n",
       "        vertical-align: top;\n",
       "    }\n",
       "\n",
       "    .dataframe thead th {\n",
       "        text-align: right;\n",
       "    }\n",
       "</style>\n",
       "<table border=\"1\" class=\"dataframe\">\n",
       "  <thead>\n",
       "    <tr style=\"text-align: right;\">\n",
       "      <th></th>\n",
       "      <th>vowel</th>\n",
       "      <th>F1</th>\n",
       "      <th>F2</th>\n",
       "      <th>type</th>\n",
       "    </tr>\n",
       "  </thead>\n",
       "  <tbody>\n",
       "    <tr>\n",
       "      <th>0</th>\n",
       "      <td>i</td>\n",
       "      <td>353</td>\n",
       "      <td>2879</td>\n",
       "      <td>full</td>\n",
       "    </tr>\n",
       "    <tr>\n",
       "      <th>1</th>\n",
       "      <td>ɪ</td>\n",
       "      <td>515</td>\n",
       "      <td>2250</td>\n",
       "      <td>full</td>\n",
       "    </tr>\n",
       "    <tr>\n",
       "      <th>2</th>\n",
       "      <td>e</td>\n",
       "      <td>566</td>\n",
       "      <td>2323</td>\n",
       "      <td>full</td>\n",
       "    </tr>\n",
       "    <tr>\n",
       "      <th>3</th>\n",
       "      <td>ɛ</td>\n",
       "      <td>693</td>\n",
       "      <td>2004</td>\n",
       "      <td>full</td>\n",
       "    </tr>\n",
       "    <tr>\n",
       "      <th>4</th>\n",
       "      <td>æ</td>\n",
       "      <td>931</td>\n",
       "      <td>1922</td>\n",
       "      <td>full</td>\n",
       "    </tr>\n",
       "    <tr>\n",
       "      <th>5</th>\n",
       "      <td>ɑ</td>\n",
       "      <td>948</td>\n",
       "      <td>1099</td>\n",
       "      <td>full</td>\n",
       "    </tr>\n",
       "    <tr>\n",
       "      <th>6</th>\n",
       "      <td>o</td>\n",
       "      <td>566</td>\n",
       "      <td>1134</td>\n",
       "      <td>full</td>\n",
       "    </tr>\n",
       "    <tr>\n",
       "      <th>7</th>\n",
       "      <td>ʊ</td>\n",
       "      <td>531</td>\n",
       "      <td>1404</td>\n",
       "      <td>full</td>\n",
       "    </tr>\n",
       "    <tr>\n",
       "      <th>8</th>\n",
       "      <td>u</td>\n",
       "      <td>427</td>\n",
       "      <td>1529</td>\n",
       "      <td>full</td>\n",
       "    </tr>\n",
       "    <tr>\n",
       "      <th>9</th>\n",
       "      <td>ɚ</td>\n",
       "      <td>608</td>\n",
       "      <td>1784</td>\n",
       "      <td>full</td>\n",
       "    </tr>\n",
       "    <tr>\n",
       "      <th>10</th>\n",
       "      <td>ʌ</td>\n",
       "      <td>733</td>\n",
       "      <td>1348</td>\n",
       "      <td>full</td>\n",
       "    </tr>\n",
       "    <tr>\n",
       "      <th>11</th>\n",
       "      <td>i</td>\n",
       "      <td>484</td>\n",
       "      <td>1616</td>\n",
       "      <td>schwa</td>\n",
       "    </tr>\n",
       "    <tr>\n",
       "      <th>12</th>\n",
       "      <td>ɪ</td>\n",
       "      <td>417</td>\n",
       "      <td>1737</td>\n",
       "      <td>schwa</td>\n",
       "    </tr>\n",
       "    <tr>\n",
       "      <th>13</th>\n",
       "      <td>ɛ</td>\n",
       "      <td>503</td>\n",
       "      <td>1662</td>\n",
       "      <td>schwa</td>\n",
       "    </tr>\n",
       "    <tr>\n",
       "      <th>14</th>\n",
       "      <td>æ</td>\n",
       "      <td>516</td>\n",
       "      <td>1595</td>\n",
       "      <td>schwa</td>\n",
       "    </tr>\n",
       "    <tr>\n",
       "      <th>15</th>\n",
       "      <td>ɑ</td>\n",
       "      <td>482</td>\n",
       "      <td>1490</td>\n",
       "      <td>schwa</td>\n",
       "    </tr>\n",
       "    <tr>\n",
       "      <th>16</th>\n",
       "      <td>o</td>\n",
       "      <td>435</td>\n",
       "      <td>1534</td>\n",
       "      <td>schwa</td>\n",
       "    </tr>\n",
       "    <tr>\n",
       "      <th>17</th>\n",
       "      <td>ʊ</td>\n",
       "      <td>496</td>\n",
       "      <td>1601</td>\n",
       "      <td>schwa</td>\n",
       "    </tr>\n",
       "    <tr>\n",
       "      <th>18</th>\n",
       "      <td>u</td>\n",
       "      <td>480</td>\n",
       "      <td>1588</td>\n",
       "      <td>schwa</td>\n",
       "    </tr>\n",
       "    <tr>\n",
       "      <th>19</th>\n",
       "      <td>ɚ</td>\n",
       "      <td>510</td>\n",
       "      <td>1542</td>\n",
       "      <td>schwa</td>\n",
       "    </tr>\n",
       "    <tr>\n",
       "      <th>20</th>\n",
       "      <td>ʌ</td>\n",
       "      <td>509</td>\n",
       "      <td>1545</td>\n",
       "      <td>schwa</td>\n",
       "    </tr>\n",
       "  </tbody>\n",
       "</table>\n",
       "</div>"
      ],
      "text/plain": [
       "   vowel   F1    F2   type\n",
       "0      i  353  2879   full\n",
       "1      ɪ  515  2250   full\n",
       "2      e  566  2323   full\n",
       "3      ɛ  693  2004   full\n",
       "4      æ  931  1922   full\n",
       "5      ɑ  948  1099   full\n",
       "6      o  566  1134   full\n",
       "7      ʊ  531  1404   full\n",
       "8      u  427  1529   full\n",
       "9      ɚ  608  1784   full\n",
       "10     ʌ  733  1348   full\n",
       "11     i  484  1616  schwa\n",
       "12     ɪ  417  1737  schwa\n",
       "13     ɛ  503  1662  schwa\n",
       "14     æ  516  1595  schwa\n",
       "15     ɑ  482  1490  schwa\n",
       "16     o  435  1534  schwa\n",
       "17     ʊ  496  1601  schwa\n",
       "18     u  480  1588  schwa\n",
       "19     ɚ  510  1542  schwa\n",
       "20     ʌ  509  1545  schwa"
      ]
     },
     "execution_count": 32,
     "metadata": {},
     "output_type": "execute_result"
    }
   ],
   "source": [
    "df2 = pd.read_csv('./Lab1_data2_SL.csv')\n",
    "df2"
   ]
  },
  {
   "cell_type": "markdown",
   "id": "neural-center",
   "metadata": {},
   "source": [
    "The main change here is since we've added a variable for type of vowel, we can add that to the seaborn scatterplot function to "
   ]
  },
  {
   "cell_type": "code",
   "execution_count": 31,
   "id": "victorian-powell",
   "metadata": {},
   "outputs": [
    {
     "data": {
      "text/plain": [
       "<matplotlib.legend.Legend at 0x7fe12172aaf0>"
      ]
     },
     "execution_count": 31,
     "metadata": {},
     "output_type": "execute_result"
    },
    {
     "data": {
      "image/png": "[encoded data removed]",
      "text/plain": [
       "<Figure size 432x288 with 1 Axes>"
      ]
     },
     "metadata": {
      "needs_background": "light"
     },
     "output_type": "display_data"
    }
   ],
   "source": [
    "p = sns.scatterplot(x='F2',y='F1',data=df2, hue='type')\n",
    "df2.apply(lambda x: p.text(x.F2, x.F1, x.vowel, size='xx-large'), axis=1)\n",
    "# p.set(xscale=\"log\") ## You can uncomment these two lines to set both the x- and y-axes to a logarithmic scale\n",
    "# p.set(yscale=\"log\")\n",
    "p.invert_xaxis()\n",
    "p.invert_yaxis()\n",
    "p.legend(bbox_to_anchor=(1.05, 1), loc=2, borderaxespad=0.)"
   ]
  }
 ],
 "metadata": {
  "kernelspec": {
   "display_name": "Python 3",
   "language": "python",
   "name": "python3"
  },
  "language_info": {
   "codemirror_mode": {
    "name": "ipython",
    "version": 3
   },
   "file_extension": ".py",
   "mimetype": "text/x-python",
   "name": "python",
   "nbconvert_exporter": "python",
   "pygments_lexer": "ipython3",
   "version": "3.9.1"
  }
 },
 "nbformat": 4,
 "nbformat_minor": 5
}
